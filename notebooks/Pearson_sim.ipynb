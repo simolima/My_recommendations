{
  "nbformat": 4,
  "nbformat_minor": 0,
  "metadata": {
    "colab": {
      "provenance": [],
      "machine_shape": "hm"
    },
    "kernelspec": {
      "name": "python3",
      "display_name": "Python 3"
    },
    "language_info": {
      "name": "python"
    }
  },
  "cells": [
    {
      "cell_type": "code",
      "source": [
        "import pandas as pd"
      ],
      "metadata": {
        "id": "t97-by8lK0yQ"
      },
      "execution_count": null,
      "outputs": []
    },
    {
      "cell_type": "code",
      "source": [
        "movies_dataset = pd.read_csv('movies.csv')"
      ],
      "metadata": {
        "id": "8cssJk3fK22w"
      },
      "execution_count": null,
      "outputs": []
    },
    {
      "cell_type": "code",
      "execution_count": null,
      "metadata": {
        "colab": {
          "base_uri": "https://localhost:8080/"
        },
        "id": "7gcGJQtFkNUP",
        "outputId": "014095b2-ff6f-43dc-c3cc-49ccc97d9ec3"
      },
      "outputs": [
        {
          "output_type": "stream",
          "name": "stdout",
          "text": [
            "Drive already mounted at /content/drive; to attempt to forcibly remount, call drive.mount(\"/content/drive\", force_remount=True).\n"
          ]
        }
      ],
      "source": [
        "from google.colab import drive\n",
        "\n",
        "# Monta Google Drive\n",
        "drive.mount('/content/drive')"
      ]
    },
    {
      "cell_type": "code",
      "source": [
        "%cd /content/drive/My Drive/Colab Notebooks"
      ],
      "metadata": {
        "colab": {
          "base_uri": "https://localhost:8080/"
        },
        "id": "mP0_aYmZkZzL",
        "outputId": "d703ccb2-85d0-4a64-818e-1b7539fb6fcc"
      },
      "execution_count": null,
      "outputs": [
        {
          "output_type": "stream",
          "name": "stdout",
          "text": [
            "/content/drive/My Drive/Colab Notebooks\n"
          ]
        }
      ]
    },
    {
      "cell_type": "code",
      "source": [
        "import pickle\n",
        "with open('grafo_bipartito.pickle', 'rb') as file:\n",
        "    G = pickle.load(file)"
      ],
      "metadata": {
        "id": "MQN7So79keLZ"
      },
      "execution_count": null,
      "outputs": []
    },
    {
      "cell_type": "code",
      "source": [
        "import networkx as nx\n",
        "\n",
        "# Supponiamo che il tuo grafo bipartito G sia già stato creato\n",
        "\n",
        "# Estrai i nodi utente (bipartizione 0) e i nodi film (bipartizione 1)\n",
        "user_nodes = {node for node, data in G.nodes(data=True) if data['bipartite'] == 0}\n",
        "movie_nodes = {node for node, data in G.nodes(data=True) if data['bipartite'] == 1}\n",
        "\n",
        "# Calcola il numero di nodi utente e il numero di nodi film\n",
        "num_user_nodes = len(user_nodes)\n",
        "num_movie_nodes = len(movie_nodes)\n",
        "\n",
        "# Calcola la media dei collegamenti per utente\n",
        "total_edges = G.number_of_edges()\n",
        "average_edges_per_user = total_edges / num_user_nodes\n",
        "\n",
        "# Stampa i risultati\n",
        "print(f\"Numero di nodi utente: {num_user_nodes}\")\n",
        "print(f\"Numero di nodi film: {num_movie_nodes}\")\n",
        "print(f\"Media dei collegamenti per utente: {average_edges_per_user:.2f}\")"
      ],
      "metadata": {
        "colab": {
          "base_uri": "https://localhost:8080/"
        },
        "id": "6mlTwTs-k1Zs",
        "outputId": "68b643e3-23bc-49b1-dfc7-2f4f0299f6ac"
      },
      "execution_count": null,
      "outputs": [
        {
          "output_type": "stream",
          "name": "stdout",
          "text": [
            "Numero di nodi utente: 162541\n",
            "Numero di nodi film: 59047\n",
            "Media dei collegamenti per utente: 153.81\n"
          ]
        }
      ]
    },
    {
      "cell_type": "code",
      "source": [
        "import numpy as np\n",
        "from scipy.stats import pearsonr\n",
        "\n",
        "# Definisci due utenti di interesse\n",
        "user1 = 'u_1'\n",
        "user2 = 'u_2'\n",
        "\n",
        "# Estrai i film in comune tra user1 e user2\n",
        "common_movies = [movie for movie in G.neighbors(user1) if movie in G.neighbors(user2)]\n",
        "\n",
        "# Estrai le valutazioni di user1 e user2 per i film in comune\n",
        "ratings_user1 = [G[user1][movie]['weight'] for movie in common_movies]\n",
        "ratings_user2 = [G[user2][movie]['weight'] for movie in common_movies]\n",
        "\n",
        "# Calcola la similarità di Pearson tra le valutazioni\n",
        "pearson_similarity, _ = pearsonr(ratings_user1, ratings_user2)\n",
        "\n",
        "print(f\"Similarità di Pearson tra {user1} e {user2}: {pearson_similarity}\")"
      ],
      "metadata": {
        "colab": {
          "base_uri": "https://localhost:8080/"
        },
        "id": "UpvoIKN3nHqj",
        "outputId": "8c4ae95f-c7af-4d86-ea2e-16b273ca8c3c"
      },
      "execution_count": null,
      "outputs": [
        {
          "output_type": "stream",
          "name": "stdout",
          "text": [
            "Similarità di Pearson tra u_1 e u_2: -0.5222329678670935\n"
          ]
        }
      ]
    },
    {
      "cell_type": "code",
      "source": [
        "# Definisci l'utente di interesse\n",
        "user1 = 'u_10'\n",
        "\n",
        "# Crea una lista vuota per memorizzare le similarità con gli altri utenti\n",
        "similarities = []\n",
        "\n",
        "# Calcola la similarità di user1 rispetto a tutti gli altri utenti con almeno 30 film in comune\n",
        "for user2 in G.nodes():\n",
        "    if user2 != user1 and G.has_node(user2):\n",
        "        # Estrai i film in comune tra user1 e user2\n",
        "        common_movies = [movie for movie in G.neighbors(user1) if movie in G.neighbors(user2)]\n",
        "\n",
        "        if len(common_movies) >= 30:  # Verifica se ci sono almeno 30 film in comune\n",
        "            # Estrai le valutazioni di user1 e user2 per i film in comune\n",
        "            ratings_user1 = [G[user1][movie]['weight'] for movie in common_movies]\n",
        "            ratings_user2 = [G[user2][movie]['weight'] for movie in common_movies]\n",
        "\n",
        "            # Calcola la similarità di Pearson tra le valutazioni\n",
        "            pearson_similarity, _ = pearsonr(ratings_user1, ratings_user2)\n",
        "\n",
        "            # Aggiungi la similarità alla lista delle similarità\n",
        "            similarities.append((user2, pearson_similarity))\n",
        "\n",
        "# Ordina la lista delle similarità in ordine decrescente\n",
        "similarities.sort(key=lambda x: x[1], reverse=True)\n",
        "\n",
        "# Stampa le similarità con i primi 10 utenti più simili\n",
        "for user, similarity in similarities[:10]:\n",
        "    print(f\"Similarità di Pearson tra {user1} e {user}: {similarity}\")\n",
        "\n",
        "\n"
      ],
      "metadata": {
        "colab": {
          "base_uri": "https://localhost:8080/"
        },
        "id": "ZFOcjJyRnsJ7",
        "outputId": "dacae3f2-db72-437e-d37a-7cc40709a4d1"
      },
      "execution_count": null,
      "outputs": [
        {
          "output_type": "stream",
          "name": "stderr",
          "text": [
            "/usr/local/lib/python3.10/dist-packages/scipy/stats/_stats_py.py:4781: ConstantInputWarning: An input array is constant; the correlation coefficient is not defined.\n",
            "  warnings.warn(stats.ConstantInputWarning(msg))\n"
          ]
        },
        {
          "output_type": "stream",
          "name": "stdout",
          "text": [
            "Similarità di Pearson tra u_10 e u_127951: 0.8645570693141393\n",
            "Similarità di Pearson tra u_10 e u_147993: 0.8396173867165679\n",
            "Similarità di Pearson tra u_10 e u_94242: 0.8195878887525662\n",
            "Similarità di Pearson tra u_10 e u_139150: 0.8133006238442805\n",
            "Similarità di Pearson tra u_10 e u_5470: 0.808144697040629\n",
            "Similarità di Pearson tra u_10 e u_147210: 0.8037408190384018\n",
            "Similarità di Pearson tra u_10 e u_16333: 0.8006635619035176\n",
            "Similarità di Pearson tra u_10 e u_28780: 0.7871146966581593\n",
            "Similarità di Pearson tra u_10 e u_28066: 0.7862356775142505\n",
            "Similarità di Pearson tra u_10 e u_153193: 0.7844043640327967\n"
          ]
        }
      ]
    },
    {
      "cell_type": "code",
      "source": [
        "# Sostituisci 'user_id' con l'ID dell'utente di cui vuoi visualizzare le valutazioni\n",
        "user_id = 'u_1'\n",
        "\n",
        "# Estrai le valutazioni dell'utente specificato\n",
        "user_ratings = {movie_id: G[user_id][movie_id]['weight'] for movie_id in G.neighbors(user_id)}\n",
        "\n",
        "# Stampa le valutazioni dell'utente\n",
        "print(f\"Valutazioni dell'utente {user_id}:\")\n",
        "for movie_id, rating in user_ratings.items():\n",
        "    print(f\"Movie ID: {movie_id}, Rating: {rating}\")\n"
      ],
      "metadata": {
        "colab": {
          "base_uri": "https://localhost:8080/"
        },
        "id": "-9pExq_YsLQC",
        "outputId": "28c0770f-378e-48d7-8c84-02f7d9a93e75"
      },
      "execution_count": null,
      "outputs": [
        {
          "output_type": "stream",
          "name": "stdout",
          "text": [
            "Valutazioni dell'utente u_1:\n",
            "Movie ID: 296, Rating: 5.0\n",
            "Movie ID: 306, Rating: 3.5\n",
            "Movie ID: 307, Rating: 5.0\n",
            "Movie ID: 665, Rating: 5.0\n",
            "Movie ID: 899, Rating: 3.5\n",
            "Movie ID: 1088, Rating: 4.0\n",
            "Movie ID: 1175, Rating: 3.5\n",
            "Movie ID: 1217, Rating: 3.5\n",
            "Movie ID: 1237, Rating: 5.0\n",
            "Movie ID: 1250, Rating: 4.0\n",
            "Movie ID: 1260, Rating: 3.5\n",
            "Movie ID: 1653, Rating: 4.0\n",
            "Movie ID: 2011, Rating: 2.5\n",
            "Movie ID: 2012, Rating: 2.5\n",
            "Movie ID: 2068, Rating: 2.5\n",
            "Movie ID: 2161, Rating: 3.5\n",
            "Movie ID: 2351, Rating: 4.5\n",
            "Movie ID: 2573, Rating: 4.0\n",
            "Movie ID: 2632, Rating: 5.0\n",
            "Movie ID: 2692, Rating: 5.0\n",
            "Movie ID: 2843, Rating: 4.5\n",
            "Movie ID: 3448, Rating: 4.0\n",
            "Movie ID: 3569, Rating: 5.0\n",
            "Movie ID: 3949, Rating: 5.0\n",
            "Movie ID: 4144, Rating: 5.0\n",
            "Movie ID: 4308, Rating: 3.0\n",
            "Movie ID: 4325, Rating: 5.0\n",
            "Movie ID: 4422, Rating: 3.0\n",
            "Movie ID: 4703, Rating: 4.0\n",
            "Movie ID: 4973, Rating: 4.5\n",
            "Movie ID: 5147, Rating: 4.0\n",
            "Movie ID: 5269, Rating: 0.5\n",
            "Movie ID: 5684, Rating: 2.0\n",
            "Movie ID: 5767, Rating: 5.0\n",
            "Movie ID: 5878, Rating: 4.0\n",
            "Movie ID: 5912, Rating: 3.0\n",
            "Movie ID: 5952, Rating: 4.0\n",
            "Movie ID: 6016, Rating: 5.0\n",
            "Movie ID: 6370, Rating: 4.5\n",
            "Movie ID: 6377, Rating: 4.0\n",
            "Movie ID: 6539, Rating: 3.5\n",
            "Movie ID: 6711, Rating: 5.0\n",
            "Movie ID: 6954, Rating: 3.5\n",
            "Movie ID: 7209, Rating: 4.0\n",
            "Movie ID: 7234, Rating: 4.5\n",
            "Movie ID: 7318, Rating: 2.0\n",
            "Movie ID: 7323, Rating: 3.5\n",
            "Movie ID: 7327, Rating: 3.5\n",
            "Movie ID: 7361, Rating: 5.0\n",
            "Movie ID: 7365, Rating: 4.0\n",
            "Movie ID: 7820, Rating: 2.5\n",
            "Movie ID: 7937, Rating: 3.0\n",
            "Movie ID: 7938, Rating: 2.5\n",
            "Movie ID: 7939, Rating: 2.5\n",
            "Movie ID: 7940, Rating: 4.5\n",
            "Movie ID: 8014, Rating: 3.5\n",
            "Movie ID: 8154, Rating: 5.0\n",
            "Movie ID: 8327, Rating: 5.0\n",
            "Movie ID: 8360, Rating: 4.0\n",
            "Movie ID: 8405, Rating: 3.5\n",
            "Movie ID: 8685, Rating: 1.0\n",
            "Movie ID: 8729, Rating: 3.5\n",
            "Movie ID: 8786, Rating: 4.0\n",
            "Movie ID: 8873, Rating: 3.0\n",
            "Movie ID: 8973, Rating: 4.0\n",
            "Movie ID: 27193, Rating: 3.0\n",
            "Movie ID: 27266, Rating: 4.5\n",
            "Movie ID: 27721, Rating: 3.0\n",
            "Movie ID: 31956, Rating: 3.5\n",
            "Movie ID: 32591, Rating: 5.0\n"
          ]
        }
      ]
    },
    {
      "cell_type": "code",
      "source": [
        "import numpy as np\n",
        "\n",
        "# Definisci il numero di utenti simili da considerare\n",
        "num_similar_users = 50\n",
        "\n",
        "# Crea un dizionario per memorizzare i rating predetti per l'utente u per gli oggetti non valutati\n",
        "predicted_ratings = {}\n",
        "\n",
        "# Calcola la media dei rating dell'utente u rispetto agli oggetti valutati\n",
        "average_rating_u = np.sum(ratings_user1) / len(ratings_user1)\n",
        "\n",
        "# Trova gli utenti più simili a u (hai già calcolato le similarità e le hai ordinato)\n",
        "similar_users = [user for user, similarity in similarities[:num_similar_users]]\n",
        "\n",
        "# Calcola il termine di normalizzazione Σ|suv|\n",
        "normalization_factor = np.sum([abs(similarity) for user, similarity in similarities[:num_similar_users]])\n",
        "\n",
        "# Per ogni oggetto (film) alpha che u non ha ancora valutato\n",
        "for alpha in set(G.nodes()) - set(G.neighbors(user1)):\n",
        "\n",
        "    # Inizializza il termine di predizione\n",
        "    prediction = 0\n",
        "\n",
        "    # Inizializza la somma delle similarità assolute tra utente u e gli utenti simili\n",
        "    total_absolute_similarity = 0\n",
        "\n",
        "    # Per ogni utente simile v\n",
        "    for v in similar_users:\n",
        "        # Verifica se v ha valutato l'oggetto alpha\n",
        "        if alpha in G.neighbors(v):\n",
        "            # Calcola il rating medio di v rispetto agli oggetti valutati\n",
        "            rated_movies_v = [movie for movie in G.neighbors(v)]\n",
        "            average_rating_v = np.sum([G[v][movie]['weight'] for movie in rated_movies_v]) / len(rated_movies_v)\n",
        "\n",
        "            # Calcola il termine di predizione per alpha utilizzando la similarità tra u e v\n",
        "            prediction += similarities[similar_users.index(v)][1] * (G[v][alpha]['weight'] - average_rating_v)\n",
        "\n",
        "            # Aggiungi il valore assoluto della similarità tra u e v alla somma delle similarità assolute\n",
        "            total_absolute_similarity += abs(similarities[similar_users.index(v)][1])\n",
        "\n",
        "    # Verifica se ci sono utenti simili che hanno valutato alpha\n",
        "    if total_absolute_similarity > 0:\n",
        "        # Calcola il rating predetto di u per alpha utilizzando il termine di normalizzazione\n",
        "        predicted_rating = average_rating_u + (prediction / total_absolute_similarity)\n",
        "\n",
        "        # Aggiungi il rating predetto al dizionario dei rating predetti\n",
        "        predicted_ratings[alpha] = predicted_rating\n",
        "\n",
        "# Ordina gli oggetti (film) non valutati da u in base ai rating predetti\n",
        "recommended_movies = sorted(predicted_ratings.items(), key=lambda x: x[1], reverse=True)\n",
        "\n",
        "# Prendi i primi 10 film consigliati\n",
        "top_10_recommendations = recommended_movies[:10]\n",
        "\n",
        "# Stampa le raccomandazioni\n",
        "print(f\"Le 10 raccomandazioni migliori per {user1} sono:\")\n",
        "for movie, rating in top_10_recommendations:\n",
        "    print(f\"Film: {movie}, Rating Predetto: {rating}\")\n",
        "\n",
        "\n",
        "\n",
        "\n",
        "\n"
      ],
      "metadata": {
        "id": "FxNPqiUvvufI",
        "colab": {
          "base_uri": "https://localhost:8080/"
        },
        "outputId": "0884b141-c649-4528-d393-72528069aaf8"
      },
      "execution_count": null,
      "outputs": [
        {
          "output_type": "stream",
          "name": "stdout",
          "text": [
            "Le 10 raccomandazioni migliori per u_10 sono:\n",
            "Film: 4998, Rating Predetto: 5.802153209109731\n",
            "Film: 8772, Rating Predetto: 5.802153209109731\n",
            "Film: 31770, Rating Predetto: 5.802153209109731\n",
            "Film: 193944, Rating Predetto: 5.766158631415241\n",
            "Film: 6344, Rating Predetto: 5.666977299880525\n",
            "Film: 3985, Rating Predetto: 5.621160949868074\n",
            "Film: 1860, Rating Predetto: 5.507698863636364\n",
            "Film: 8012, Rating Predetto: 5.496071428571429\n",
            "Film: 66371, Rating Predetto: 5.446840536512667\n",
            "Film: 2495, Rating Predetto: 5.416329588014982\n"
          ]
        }
      ]
    },
    {
      "cell_type": "code",
      "source": [
        "movies_dataset.head()"
      ],
      "metadata": {
        "id": "AZNjupzIWoZB",
        "colab": {
          "base_uri": "https://localhost:8080/",
          "height": 206
        },
        "outputId": "d25eb080-d89d-40b6-fb86-c9ec0474410b"
      },
      "execution_count": null,
      "outputs": [
        {
          "output_type": "execute_result",
          "data": {
            "text/plain": [
              "   movieId                               title  \\\n",
              "0        1                    Toy Story (1995)   \n",
              "1        2                      Jumanji (1995)   \n",
              "2        3             Grumpier Old Men (1995)   \n",
              "3        4            Waiting to Exhale (1995)   \n",
              "4        5  Father of the Bride Part II (1995)   \n",
              "\n",
              "                                        genres  \n",
              "0  Adventure|Animation|Children|Comedy|Fantasy  \n",
              "1                   Adventure|Children|Fantasy  \n",
              "2                               Comedy|Romance  \n",
              "3                         Comedy|Drama|Romance  \n",
              "4                                       Comedy  "
            ],
            "text/html": [
              "\n",
              "  <div id=\"df-ef12609b-a215-42a8-9095-44d5cb3e7432\" class=\"colab-df-container\">\n",
              "    <div>\n",
              "<style scoped>\n",
              "    .dataframe tbody tr th:only-of-type {\n",
              "        vertical-align: middle;\n",
              "    }\n",
              "\n",
              "    .dataframe tbody tr th {\n",
              "        vertical-align: top;\n",
              "    }\n",
              "\n",
              "    .dataframe thead th {\n",
              "        text-align: right;\n",
              "    }\n",
              "</style>\n",
              "<table border=\"1\" class=\"dataframe\">\n",
              "  <thead>\n",
              "    <tr style=\"text-align: right;\">\n",
              "      <th></th>\n",
              "      <th>movieId</th>\n",
              "      <th>title</th>\n",
              "      <th>genres</th>\n",
              "    </tr>\n",
              "  </thead>\n",
              "  <tbody>\n",
              "    <tr>\n",
              "      <th>0</th>\n",
              "      <td>1</td>\n",
              "      <td>Toy Story (1995)</td>\n",
              "      <td>Adventure|Animation|Children|Comedy|Fantasy</td>\n",
              "    </tr>\n",
              "    <tr>\n",
              "      <th>1</th>\n",
              "      <td>2</td>\n",
              "      <td>Jumanji (1995)</td>\n",
              "      <td>Adventure|Children|Fantasy</td>\n",
              "    </tr>\n",
              "    <tr>\n",
              "      <th>2</th>\n",
              "      <td>3</td>\n",
              "      <td>Grumpier Old Men (1995)</td>\n",
              "      <td>Comedy|Romance</td>\n",
              "    </tr>\n",
              "    <tr>\n",
              "      <th>3</th>\n",
              "      <td>4</td>\n",
              "      <td>Waiting to Exhale (1995)</td>\n",
              "      <td>Comedy|Drama|Romance</td>\n",
              "    </tr>\n",
              "    <tr>\n",
              "      <th>4</th>\n",
              "      <td>5</td>\n",
              "      <td>Father of the Bride Part II (1995)</td>\n",
              "      <td>Comedy</td>\n",
              "    </tr>\n",
              "  </tbody>\n",
              "</table>\n",
              "</div>\n",
              "    <div class=\"colab-df-buttons\">\n",
              "\n",
              "  <div class=\"colab-df-container\">\n",
              "    <button class=\"colab-df-convert\" onclick=\"convertToInteractive('df-ef12609b-a215-42a8-9095-44d5cb3e7432')\"\n",
              "            title=\"Convert this dataframe to an interactive table.\"\n",
              "            style=\"display:none;\">\n",
              "\n",
              "  <svg xmlns=\"http://www.w3.org/2000/svg\" height=\"24px\" viewBox=\"0 -960 960 960\">\n",
              "    <path d=\"M120-120v-720h720v720H120Zm60-500h600v-160H180v160Zm220 220h160v-160H400v160Zm0 220h160v-160H400v160ZM180-400h160v-160H180v160Zm440 0h160v-160H620v160ZM180-180h160v-160H180v160Zm440 0h160v-160H620v160Z\"/>\n",
              "  </svg>\n",
              "    </button>\n",
              "\n",
              "  <style>\n",
              "    .colab-df-container {\n",
              "      display:flex;\n",
              "      gap: 12px;\n",
              "    }\n",
              "\n",
              "    .colab-df-convert {\n",
              "      background-color: #E8F0FE;\n",
              "      border: none;\n",
              "      border-radius: 50%;\n",
              "      cursor: pointer;\n",
              "      display: none;\n",
              "      fill: #1967D2;\n",
              "      height: 32px;\n",
              "      padding: 0 0 0 0;\n",
              "      width: 32px;\n",
              "    }\n",
              "\n",
              "    .colab-df-convert:hover {\n",
              "      background-color: #E2EBFA;\n",
              "      box-shadow: 0px 1px 2px rgba(60, 64, 67, 0.3), 0px 1px 3px 1px rgba(60, 64, 67, 0.15);\n",
              "      fill: #174EA6;\n",
              "    }\n",
              "\n",
              "    .colab-df-buttons div {\n",
              "      margin-bottom: 4px;\n",
              "    }\n",
              "\n",
              "    [theme=dark] .colab-df-convert {\n",
              "      background-color: #3B4455;\n",
              "      fill: #D2E3FC;\n",
              "    }\n",
              "\n",
              "    [theme=dark] .colab-df-convert:hover {\n",
              "      background-color: #434B5C;\n",
              "      box-shadow: 0px 1px 3px 1px rgba(0, 0, 0, 0.15);\n",
              "      filter: drop-shadow(0px 1px 2px rgba(0, 0, 0, 0.3));\n",
              "      fill: #FFFFFF;\n",
              "    }\n",
              "  </style>\n",
              "\n",
              "    <script>\n",
              "      const buttonEl =\n",
              "        document.querySelector('#df-ef12609b-a215-42a8-9095-44d5cb3e7432 button.colab-df-convert');\n",
              "      buttonEl.style.display =\n",
              "        google.colab.kernel.accessAllowed ? 'block' : 'none';\n",
              "\n",
              "      async function convertToInteractive(key) {\n",
              "        const element = document.querySelector('#df-ef12609b-a215-42a8-9095-44d5cb3e7432');\n",
              "        const dataTable =\n",
              "          await google.colab.kernel.invokeFunction('convertToInteractive',\n",
              "                                                    [key], {});\n",
              "        if (!dataTable) return;\n",
              "\n",
              "        const docLinkHtml = 'Like what you see? Visit the ' +\n",
              "          '<a target=\"_blank\" href=https://colab.research.google.com/notebooks/data_table.ipynb>data table notebook</a>'\n",
              "          + ' to learn more about interactive tables.';\n",
              "        element.innerHTML = '';\n",
              "        dataTable['output_type'] = 'display_data';\n",
              "        await google.colab.output.renderOutput(dataTable, element);\n",
              "        const docLink = document.createElement('div');\n",
              "        docLink.innerHTML = docLinkHtml;\n",
              "        element.appendChild(docLink);\n",
              "      }\n",
              "    </script>\n",
              "  </div>\n",
              "\n",
              "\n",
              "<div id=\"df-8cef479b-185d-4f89-a23f-539b39752f9a\">\n",
              "  <button class=\"colab-df-quickchart\" onclick=\"quickchart('df-8cef479b-185d-4f89-a23f-539b39752f9a')\"\n",
              "            title=\"Suggest charts.\"\n",
              "            style=\"display:none;\">\n",
              "\n",
              "<svg xmlns=\"http://www.w3.org/2000/svg\" height=\"24px\"viewBox=\"0 0 24 24\"\n",
              "     width=\"24px\">\n",
              "    <g>\n",
              "        <path d=\"M19 3H5c-1.1 0-2 .9-2 2v14c0 1.1.9 2 2 2h14c1.1 0 2-.9 2-2V5c0-1.1-.9-2-2-2zM9 17H7v-7h2v7zm4 0h-2V7h2v10zm4 0h-2v-4h2v4z\"/>\n",
              "    </g>\n",
              "</svg>\n",
              "  </button>\n",
              "\n",
              "<style>\n",
              "  .colab-df-quickchart {\n",
              "      --bg-color: #E8F0FE;\n",
              "      --fill-color: #1967D2;\n",
              "      --hover-bg-color: #E2EBFA;\n",
              "      --hover-fill-color: #174EA6;\n",
              "      --disabled-fill-color: #AAA;\n",
              "      --disabled-bg-color: #DDD;\n",
              "  }\n",
              "\n",
              "  [theme=dark] .colab-df-quickchart {\n",
              "      --bg-color: #3B4455;\n",
              "      --fill-color: #D2E3FC;\n",
              "      --hover-bg-color: #434B5C;\n",
              "      --hover-fill-color: #FFFFFF;\n",
              "      --disabled-bg-color: #3B4455;\n",
              "      --disabled-fill-color: #666;\n",
              "  }\n",
              "\n",
              "  .colab-df-quickchart {\n",
              "    background-color: var(--bg-color);\n",
              "    border: none;\n",
              "    border-radius: 50%;\n",
              "    cursor: pointer;\n",
              "    display: none;\n",
              "    fill: var(--fill-color);\n",
              "    height: 32px;\n",
              "    padding: 0;\n",
              "    width: 32px;\n",
              "  }\n",
              "\n",
              "  .colab-df-quickchart:hover {\n",
              "    background-color: var(--hover-bg-color);\n",
              "    box-shadow: 0 1px 2px rgba(60, 64, 67, 0.3), 0 1px 3px 1px rgba(60, 64, 67, 0.15);\n",
              "    fill: var(--button-hover-fill-color);\n",
              "  }\n",
              "\n",
              "  .colab-df-quickchart-complete:disabled,\n",
              "  .colab-df-quickchart-complete:disabled:hover {\n",
              "    background-color: var(--disabled-bg-color);\n",
              "    fill: var(--disabled-fill-color);\n",
              "    box-shadow: none;\n",
              "  }\n",
              "\n",
              "  .colab-df-spinner {\n",
              "    border: 2px solid var(--fill-color);\n",
              "    border-color: transparent;\n",
              "    border-bottom-color: var(--fill-color);\n",
              "    animation:\n",
              "      spin 1s steps(1) infinite;\n",
              "  }\n",
              "\n",
              "  @keyframes spin {\n",
              "    0% {\n",
              "      border-color: transparent;\n",
              "      border-bottom-color: var(--fill-color);\n",
              "      border-left-color: var(--fill-color);\n",
              "    }\n",
              "    20% {\n",
              "      border-color: transparent;\n",
              "      border-left-color: var(--fill-color);\n",
              "      border-top-color: var(--fill-color);\n",
              "    }\n",
              "    30% {\n",
              "      border-color: transparent;\n",
              "      border-left-color: var(--fill-color);\n",
              "      border-top-color: var(--fill-color);\n",
              "      border-right-color: var(--fill-color);\n",
              "    }\n",
              "    40% {\n",
              "      border-color: transparent;\n",
              "      border-right-color: var(--fill-color);\n",
              "      border-top-color: var(--fill-color);\n",
              "    }\n",
              "    60% {\n",
              "      border-color: transparent;\n",
              "      border-right-color: var(--fill-color);\n",
              "    }\n",
              "    80% {\n",
              "      border-color: transparent;\n",
              "      border-right-color: var(--fill-color);\n",
              "      border-bottom-color: var(--fill-color);\n",
              "    }\n",
              "    90% {\n",
              "      border-color: transparent;\n",
              "      border-bottom-color: var(--fill-color);\n",
              "    }\n",
              "  }\n",
              "</style>\n",
              "\n",
              "  <script>\n",
              "    async function quickchart(key) {\n",
              "      const quickchartButtonEl =\n",
              "        document.querySelector('#' + key + ' button');\n",
              "      quickchartButtonEl.disabled = true;  // To prevent multiple clicks.\n",
              "      quickchartButtonEl.classList.add('colab-df-spinner');\n",
              "      try {\n",
              "        const charts = await google.colab.kernel.invokeFunction(\n",
              "            'suggestCharts', [key], {});\n",
              "      } catch (error) {\n",
              "        console.error('Error during call to suggestCharts:', error);\n",
              "      }\n",
              "      quickchartButtonEl.classList.remove('colab-df-spinner');\n",
              "      quickchartButtonEl.classList.add('colab-df-quickchart-complete');\n",
              "    }\n",
              "    (() => {\n",
              "      let quickchartButtonEl =\n",
              "        document.querySelector('#df-8cef479b-185d-4f89-a23f-539b39752f9a button');\n",
              "      quickchartButtonEl.style.display =\n",
              "        google.colab.kernel.accessAllowed ? 'block' : 'none';\n",
              "    })();\n",
              "  </script>\n",
              "</div>\n",
              "    </div>\n",
              "  </div>\n"
            ]
          },
          "metadata": {},
          "execution_count": 13
        }
      ]
    },
    {
      "cell_type": "code",
      "source": [
        "# ... (Codice per calcolare le raccomandazioni e ottenere i titoli dei film)\n",
        "movie_id_to_title = {}\n",
        "for index, row in movies_dataset.iterrows():\n",
        "    movie_id_to_title[row['movieId']] = row['title']\n",
        "\n",
        "\n",
        "top_10_movies = sorted(predicted_ratings.items(), key=lambda x: x[1], reverse=True)[:10]\n",
        "\n",
        "# Stampa solo i primi 10 film con il rating più alto\n",
        "for movie_id, rating in top_10_movies:\n",
        "    movie_title = movie_id_to_title.get(movie_id, 'Sconosciuto')\n",
        "    print(f\"Film: {movie_title}, Rating Predetto: {rating}\")"
      ],
      "metadata": {
        "colab": {
          "base_uri": "https://localhost:8080/",
          "height": 245
        },
        "id": "oA1yKGCvA58B",
        "outputId": "90652864-079f-4871-c79a-a085080c6b9e"
      },
      "execution_count": null,
      "outputs": [
        {
          "output_type": "error",
          "ename": "NameError",
          "evalue": "ignored",
          "traceback": [
            "\u001b[0;31m---------------------------------------------------------------------------\u001b[0m",
            "\u001b[0;31mNameError\u001b[0m                                 Traceback (most recent call last)",
            "\u001b[0;32m<ipython-input-1-c6752f9ecb4d>\u001b[0m in \u001b[0;36m<cell line: 3>\u001b[0;34m()\u001b[0m\n\u001b[1;32m      1\u001b[0m \u001b[0;31m# ... (Codice per calcolare le raccomandazioni e ottenere i titoli dei film)\u001b[0m\u001b[0;34m\u001b[0m\u001b[0;34m\u001b[0m\u001b[0m\n\u001b[1;32m      2\u001b[0m \u001b[0mmovie_id_to_title\u001b[0m \u001b[0;34m=\u001b[0m \u001b[0;34m{\u001b[0m\u001b[0;34m}\u001b[0m\u001b[0;34m\u001b[0m\u001b[0;34m\u001b[0m\u001b[0m\n\u001b[0;32m----> 3\u001b[0;31m \u001b[0;32mfor\u001b[0m \u001b[0mindex\u001b[0m\u001b[0;34m,\u001b[0m \u001b[0mrow\u001b[0m \u001b[0;32min\u001b[0m \u001b[0mmovies_dataset\u001b[0m\u001b[0;34m.\u001b[0m\u001b[0miterrows\u001b[0m\u001b[0;34m(\u001b[0m\u001b[0;34m)\u001b[0m\u001b[0;34m:\u001b[0m\u001b[0;34m\u001b[0m\u001b[0;34m\u001b[0m\u001b[0m\n\u001b[0m\u001b[1;32m      4\u001b[0m     \u001b[0mmovie_id_to_title\u001b[0m\u001b[0;34m[\u001b[0m\u001b[0mrow\u001b[0m\u001b[0;34m[\u001b[0m\u001b[0;34m'movieId'\u001b[0m\u001b[0;34m]\u001b[0m\u001b[0;34m]\u001b[0m \u001b[0;34m=\u001b[0m \u001b[0mrow\u001b[0m\u001b[0;34m[\u001b[0m\u001b[0;34m'title'\u001b[0m\u001b[0;34m]\u001b[0m\u001b[0;34m\u001b[0m\u001b[0;34m\u001b[0m\u001b[0m\n\u001b[1;32m      5\u001b[0m \u001b[0;34m\u001b[0m\u001b[0m\n",
            "\u001b[0;31mNameError\u001b[0m: name 'movies_dataset' is not defined"
          ]
        }
      ]
    },
    {
      "cell_type": "code",
      "source": [],
      "metadata": {
        "id": "BPmCUSR3GksK"
      },
      "execution_count": null,
      "outputs": []
    }
  ]
}