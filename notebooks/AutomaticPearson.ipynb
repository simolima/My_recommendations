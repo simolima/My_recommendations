{
  "nbformat": 4,
  "nbformat_minor": 0,
  "metadata": {
    "colab": {
      "provenance": [],
      "machine_shape": "hm"
    },
    "kernelspec": {
      "name": "python3",
      "display_name": "Python 3"
    },
    "language_info": {
      "name": "python"
    }
  },
  "cells": [
    {
      "cell_type": "code",
      "source": [
        "from google.colab import drive\n",
        "\n",
        "# Monta Google Drive\n",
        "drive.mount('/content/drive')"
      ],
      "metadata": {
        "colab": {
          "base_uri": "https://localhost:8080/"
        },
        "id": "2dmzyGoOubyE",
        "outputId": "2c7ec716-499c-4cd4-c55b-f4034cae28b3"
      },
      "execution_count": null,
      "outputs": [
        {
          "output_type": "stream",
          "name": "stdout",
          "text": [
            "Mounted at /content/drive\n"
          ]
        }
      ]
    },
    {
      "cell_type": "code",
      "source": [
        "%cd /content/drive/My Drive/Colab Notebooks"
      ],
      "metadata": {
        "colab": {
          "base_uri": "https://localhost:8080/"
        },
        "id": "4VOyevRYugQI",
        "outputId": "e598ed55-9f4f-42ce-a927-7f3ead3f5c62"
      },
      "execution_count": null,
      "outputs": [
        {
          "output_type": "stream",
          "name": "stdout",
          "text": [
            "/content/drive/My Drive/Colab Notebooks\n"
          ]
        }
      ]
    },
    {
      "cell_type": "code",
      "source": [
        "import pickle\n",
        "with open('grafo_bipartito.pickle', 'rb') as file:\n",
        "    G = pickle.load(file)"
      ],
      "metadata": {
        "id": "g-B1-c9mujjE"
      },
      "execution_count": null,
      "outputs": []
    },
    {
      "cell_type": "code",
      "source": [
        "import networkx as nx\n",
        "G_tot = nx.Graph(G)"
      ],
      "metadata": {
        "id": "WMVhPb3HumED"
      },
      "execution_count": null,
      "outputs": []
    },
    {
      "cell_type": "code",
      "execution_count": null,
      "metadata": {
        "colab": {
          "base_uri": "https://localhost:8080/"
        },
        "id": "qKcsGEaft42h",
        "outputId": "b4e58359-f339-4dd4-e3e8-2a3dd7eaa80e"
      },
      "outputs": [
        {
          "output_type": "stream",
          "name": "stdout",
          "text": [
            "Le 10 raccomandazioni migliori per u_8350 sono:\n",
            "Film: 3429, Rating Predetto: 4.818200408997955\n",
            "Film: 2925, Rating Predetto: 4.523159303882196\n",
            "Film: 3030, Rating Predetto: 4.523159303882196\n",
            "Film: 1248, Rating Predetto: 4.523159303882196\n",
            "Film: 1256, Rating Predetto: 4.523159303882196\n",
            "Film: 6783, Rating Predetto: 4.523159303882196\n",
            "Film: 6954, Rating Predetto: 4.523159303882196\n",
            "Film: 7156, Rating Predetto: 4.523159303882196\n",
            "Film: 38886, Rating Predetto: 4.523159303882196\n",
            "Film: 2010, Rating Predetto: 4.48020663404024\n"
          ]
        },
        {
          "output_type": "stream",
          "name": "stderr",
          "text": [
            "/usr/local/lib/python3.10/dist-packages/scipy/stats/_stats_py.py:4781: ConstantInputWarning: An input array is constant; the correlation coefficient is not defined.\n",
            "  warnings.warn(stats.ConstantInputWarning(msg))\n",
            "/usr/local/lib/python3.10/dist-packages/scipy/stats/_stats_py.py:4781: ConstantInputWarning: An input array is constant; the correlation coefficient is not defined.\n",
            "  warnings.warn(stats.ConstantInputWarning(msg))\n",
            "/usr/local/lib/python3.10/dist-packages/scipy/stats/_stats_py.py:4781: ConstantInputWarning: An input array is constant; the correlation coefficient is not defined.\n",
            "  warnings.warn(stats.ConstantInputWarning(msg))\n",
            "/usr/local/lib/python3.10/dist-packages/scipy/stats/_stats_py.py:4781: ConstantInputWarning: An input array is constant; the correlation coefficient is not defined.\n",
            "  warnings.warn(stats.ConstantInputWarning(msg))\n",
            "/usr/local/lib/python3.10/dist-packages/scipy/stats/_stats_py.py:4781: ConstantInputWarning: An input array is constant; the correlation coefficient is not defined.\n",
            "  warnings.warn(stats.ConstantInputWarning(msg))\n",
            "/usr/local/lib/python3.10/dist-packages/scipy/stats/_stats_py.py:4781: ConstantInputWarning: An input array is constant; the correlation coefficient is not defined.\n",
            "  warnings.warn(stats.ConstantInputWarning(msg))\n"
          ]
        },
        {
          "output_type": "stream",
          "name": "stdout",
          "text": [
            "Le 10 raccomandazioni migliori per u_102798 sono:\n",
            "Film: 363, Rating Predetto: 5.284700722394221\n",
            "Film: 549, Rating Predetto: 5.284700722394221\n",
            "Film: 670, Rating Predetto: 5.284700722394221\n",
            "Film: 973, Rating Predetto: 5.284700722394221\n",
            "Film: 1066, Rating Predetto: 5.284700722394221\n",
            "Film: 1153, Rating Predetto: 5.284700722394221\n",
            "Film: 1154, Rating Predetto: 5.284700722394221\n",
            "Film: 1260, Rating Predetto: 5.284700722394221\n",
            "Film: 1913, Rating Predetto: 5.284700722394221\n",
            "Film: 1929, Rating Predetto: 5.284700722394221\n",
            "Le 10 raccomandazioni migliori per u_115450 sono:\n"
          ]
        },
        {
          "output_type": "stream",
          "name": "stderr",
          "text": [
            "/usr/local/lib/python3.10/dist-packages/numpy/core/fromnumeric.py:3432: RuntimeWarning: Mean of empty slice.\n",
            "  return _methods._mean(a, axis=axis, dtype=dtype,\n",
            "/usr/local/lib/python3.10/dist-packages/numpy/core/_methods.py:190: RuntimeWarning: invalid value encountered in double_scalars\n",
            "  ret = ret.dtype.type(ret / rcount)\n"
          ]
        },
        {
          "output_type": "stream",
          "name": "stdout",
          "text": [
            "Le 10 raccomandazioni migliori per u_47214 sono:\n"
          ]
        },
        {
          "output_type": "stream",
          "name": "stderr",
          "text": [
            "/usr/local/lib/python3.10/dist-packages/numpy/core/fromnumeric.py:3432: RuntimeWarning: Mean of empty slice.\n",
            "  return _methods._mean(a, axis=axis, dtype=dtype,\n",
            "/usr/local/lib/python3.10/dist-packages/numpy/core/_methods.py:190: RuntimeWarning: invalid value encountered in double_scalars\n",
            "  ret = ret.dtype.type(ret / rcount)\n",
            "/usr/local/lib/python3.10/dist-packages/scipy/stats/_stats_py.py:4781: ConstantInputWarning: An input array is constant; the correlation coefficient is not defined.\n",
            "  warnings.warn(stats.ConstantInputWarning(msg))\n",
            "/usr/local/lib/python3.10/dist-packages/scipy/stats/_stats_py.py:4781: ConstantInputWarning: An input array is constant; the correlation coefficient is not defined.\n",
            "  warnings.warn(stats.ConstantInputWarning(msg))\n"
          ]
        },
        {
          "output_type": "stream",
          "name": "stdout",
          "text": [
            "Le 10 raccomandazioni migliori per u_121398 sono:\n",
            "Film: 1147, Rating Predetto: 5.592459173871278\n",
            "Film: 3435, Rating Predetto: 5.592459173871278\n",
            "Film: 7156, Rating Predetto: 5.592459173871278\n",
            "Film: 2594, Rating Predetto: 5.592459173871278\n",
            "Film: 71282, Rating Predetto: 5.592459173871278\n",
            "Film: 72712, Rating Predetto: 5.592459173871278\n",
            "Film: 34542, Rating Predetto: 5.566885964912281\n",
            "Film: 68954, Rating Predetto: 5.566885964912281\n",
            "Film: 73290, Rating Predetto: 5.566885964912281\n",
            "Film: 78574, Rating Predetto: 5.566885964912281\n",
            "Le 10 raccomandazioni migliori per u_100599 sono:\n"
          ]
        },
        {
          "output_type": "stream",
          "name": "stderr",
          "text": [
            "/usr/local/lib/python3.10/dist-packages/numpy/core/fromnumeric.py:3432: RuntimeWarning: Mean of empty slice.\n",
            "  return _methods._mean(a, axis=axis, dtype=dtype,\n",
            "/usr/local/lib/python3.10/dist-packages/numpy/core/_methods.py:190: RuntimeWarning: invalid value encountered in double_scalars\n",
            "  ret = ret.dtype.type(ret / rcount)\n"
          ]
        },
        {
          "output_type": "stream",
          "name": "stdout",
          "text": [
            "Le 10 raccomandazioni migliori per u_52655 sono:\n"
          ]
        },
        {
          "output_type": "stream",
          "name": "stderr",
          "text": [
            "/usr/local/lib/python3.10/dist-packages/numpy/core/fromnumeric.py:3432: RuntimeWarning: Mean of empty slice.\n",
            "  return _methods._mean(a, axis=axis, dtype=dtype,\n",
            "/usr/local/lib/python3.10/dist-packages/numpy/core/_methods.py:190: RuntimeWarning: invalid value encountered in double_scalars\n",
            "  ret = ret.dtype.type(ret / rcount)\n",
            "/usr/local/lib/python3.10/dist-packages/scipy/stats/_stats_py.py:4781: ConstantInputWarning: An input array is constant; the correlation coefficient is not defined.\n",
            "  warnings.warn(stats.ConstantInputWarning(msg))\n",
            "/usr/local/lib/python3.10/dist-packages/scipy/stats/_stats_py.py:4781: ConstantInputWarning: An input array is constant; the correlation coefficient is not defined.\n",
            "  warnings.warn(stats.ConstantInputWarning(msg))\n"
          ]
        },
        {
          "output_type": "stream",
          "name": "stdout",
          "text": [
            "Le 10 raccomandazioni migliori per u_29028 sono:\n",
            "Film: 235, Rating Predetto: 5.463539967373572\n",
            "Film: 1354, Rating Predetto: 5.463539967373572\n",
            "Film: 2160, Rating Predetto: 5.463539967373572\n",
            "Film: 2313, Rating Predetto: 5.463539967373572\n",
            "Film: 247, Rating Predetto: 5.463539967373572\n",
            "Film: 1279, Rating Predetto: 5.463539967373572\n",
            "Film: 26776, Rating Predetto: 5.463539967373572\n",
            "Film: 60333, Rating Predetto: 5.463539967373572\n",
            "Film: 1261, Rating Predetto: 5.198756086732635\n",
            "Film: 86345, Rating Predetto: 5.11060606060606\n",
            "Le 10 raccomandazioni migliori per u_93750 sono:\n",
            "Film: 7775, Rating Predetto: 5.927966978399404\n",
            "Film: 1572, Rating Predetto: 5.897412073347361\n",
            "Film: 2940, Rating Predetto: 5.897412073347361\n",
            "Film: 4325, Rating Predetto: 5.897412073347361\n",
            "Film: 4422, Rating Predetto: 5.897412073347361\n",
            "Film: 6526, Rating Predetto: 5.897412073347361\n",
            "Film: 6684, Rating Predetto: 5.897412073347361\n",
            "Film: 7064, Rating Predetto: 5.897412073347361\n",
            "Film: 7761, Rating Predetto: 5.897412073347361\n",
            "Film: 1797, Rating Predetto: 5.8655203156417155\n"
          ]
        },
        {
          "output_type": "stream",
          "name": "stderr",
          "text": [
            "/usr/local/lib/python3.10/dist-packages/scipy/stats/_stats_py.py:4781: ConstantInputWarning: An input array is constant; the correlation coefficient is not defined.\n",
            "  warnings.warn(stats.ConstantInputWarning(msg))\n",
            "/usr/local/lib/python3.10/dist-packages/scipy/stats/_stats_py.py:4781: ConstantInputWarning: An input array is constant; the correlation coefficient is not defined.\n",
            "  warnings.warn(stats.ConstantInputWarning(msg))\n",
            "/usr/local/lib/python3.10/dist-packages/scipy/stats/_stats_py.py:4781: ConstantInputWarning: An input array is constant; the correlation coefficient is not defined.\n",
            "  warnings.warn(stats.ConstantInputWarning(msg))\n",
            "/usr/local/lib/python3.10/dist-packages/scipy/stats/_stats_py.py:4781: ConstantInputWarning: An input array is constant; the correlation coefficient is not defined.\n",
            "  warnings.warn(stats.ConstantInputWarning(msg))\n",
            "/usr/local/lib/python3.10/dist-packages/scipy/stats/_stats_py.py:4781: ConstantInputWarning: An input array is constant; the correlation coefficient is not defined.\n",
            "  warnings.warn(stats.ConstantInputWarning(msg))\n",
            "/usr/local/lib/python3.10/dist-packages/scipy/stats/_stats_py.py:4781: ConstantInputWarning: An input array is constant; the correlation coefficient is not defined.\n",
            "  warnings.warn(stats.ConstantInputWarning(msg))\n"
          ]
        },
        {
          "output_type": "stream",
          "name": "stdout",
          "text": [
            "Le 10 raccomandazioni migliori per u_148338 sono:\n",
            "Film: 2109, Rating Predetto: 4.872926154847105\n",
            "Film: 3087, Rating Predetto: 4.872926154847105\n",
            "Film: 4002, Rating Predetto: 4.872926154847105\n",
            "Film: 4679, Rating Predetto: 4.872926154847105\n",
            "Film: 176371, Rating Predetto: 4.872926154847105\n",
            "Film: 1263, Rating Predetto: 4.679033283866865\n",
            "Film: 136449, Rating Predetto: 4.679033283866865\n",
            "Film: 142115, Rating Predetto: 4.679033283866865\n",
            "Film: 159817, Rating Predetto: 4.679033283866865\n",
            "Film: 170705, Rating Predetto: 4.679033283866865\n",
            "MSE Medio per 10 utenti estratti casualmente: 1.136708355014284\n"
          ]
        }
      ],
      "source": [
        "import random\n",
        "import numpy as np\n",
        "from scipy.stats import pearsonr\n",
        "\n",
        "# Definisci il numero di utenti di interesse da estrarre casualmente\n",
        "num_users_to_sample = 10  # Puoi cambiare questo numero\n",
        "mse_values = []  # Lista per memorizzare gli MSE\n",
        "\n",
        "# Esegui un ciclo per estrarre casualmente gli utenti di interesse\n",
        "for _ in range(num_users_to_sample):\n",
        "    # Estrai casualmente un utente tra u_1 e u_162541 (assicurati che sia un utente esistente)\n",
        "    random_user = f'u_{random.randint(1, 162541)}'\n",
        "\n",
        "    # Estrai i film valutati dall'utente specificato\n",
        "    all_user_movies = [movie for movie in G.neighbors(random_user)]\n",
        "\n",
        "    # Definisci la percentuale di film da utilizzare per il calcolo delle similarità\n",
        "    percent_to_use = 0.8  # 80% dei film\n",
        "\n",
        "    # Calcola il numero di film da utilizzare e quelli da rimuovere\n",
        "    num_movies_to_use = int(len(all_user_movies) * percent_to_use)\n",
        "    num_movies_to_remove = len(all_user_movies) - num_movies_to_use\n",
        "\n",
        "    # Estrai casualmente i film da utilizzare e quelli da rimuovere\n",
        "    movies_to_use = random.sample(all_user_movies, num_movies_to_use)\n",
        "    movies_to_remove = [movie for movie in all_user_movies if movie not in movies_to_use]\n",
        "\n",
        "    # G diventa G_train set\n",
        "    for movie in movies_to_remove:\n",
        "        G.remove_edge(random_user, movie)\n",
        "\n",
        "    # Crea una lista vuota per memorizzare le similarità con gli altri utenti\n",
        "    similarities = []\n",
        "\n",
        "    # Calcola la similarità di Pearson tra l'utente corrente e tutti gli altri utenti con almeno 30 film in comune\n",
        "    for user2 in G.nodes():\n",
        "        if user2 != random_user and G.has_node(user2):\n",
        "            # Estrai i film in comune tra l'utente corrente e user2\n",
        "            common_movies = [movie for movie in G.neighbors(random_user) if movie in G.neighbors(user2)]\n",
        "\n",
        "            if len(common_movies) >= 30:  # Verifica se ci sono almeno 30 film in comune\n",
        "                # Estrai le valutazioni dell'utente corrente e user2 per i film in comune\n",
        "                ratings_user1 = [G[random_user][movie]['weight'] for movie in common_movies]\n",
        "                ratings_user2 = [G[user2][movie]['weight'] for movie in common_movies]\n",
        "\n",
        "                # Calcola la similarità di Pearson tra le valutazioni\n",
        "                pearson_similarity, _ = pearsonr(ratings_user1, ratings_user2)\n",
        "\n",
        "                # Aggiungi la similarità alla lista delle similarità\n",
        "                similarities.append((user2, pearson_similarity))\n",
        "\n",
        "    # Ordina la lista delle similarità in ordine decrescente\n",
        "    similarities.sort(key=lambda x: x[1], reverse=True)\n",
        "\n",
        "    # Definisci il numero di utenti simili da considerare\n",
        "    num_similar_users = 10\n",
        "\n",
        "    # Crea un dizionario per memorizzare i rating predetti per l'utente corrente per gli oggetti non valutati\n",
        "    predicted_ratings = {}\n",
        "\n",
        "    # Calcola la media dei rating dell'utente corrente rispetto agli oggetti valutati\n",
        "    average_rating_u = np.sum(ratings_user1) / len(ratings_user1)\n",
        "\n",
        "    # Trova gli utenti più simili al corrente\n",
        "    similar_users = [user for user, similarity in similarities[:num_similar_users]]\n",
        "\n",
        "    # Calcola il termine di normalizzazione Σ|suv|\n",
        "    normalization_factor = np.sum([abs(similarity) for user, similarity in similarities[:num_similar_users]])\n",
        "\n",
        "    # Per ogni oggetto (film) alpha che il corrente utente non ha ancora valutato\n",
        "    for alpha in set(G.nodes()) - set(G.neighbors(random_user)):\n",
        "\n",
        "        # Inizializza il termine di predizione\n",
        "        prediction = 0\n",
        "\n",
        "        # Inizializza la somma delle similarità assolute tra il corrente utente e gli utenti simili\n",
        "        total_absolute_similarity = 0\n",
        "\n",
        "        # Per ogni utente simile v\n",
        "        for v in similar_users:\n",
        "            # Verifica se v ha valutato l'oggetto alpha\n",
        "            if alpha in G.neighbors(v):\n",
        "                # Calcola il rating medio di v rispetto agli oggetti valutati\n",
        "                rated_movies_v = [movie for movie in G.neighbors(v)]\n",
        "                average_rating_v = np.sum([G[v][movie]['weight'] for movie in rated_movies_v]) / len(rated_movies_v)\n",
        "\n",
        "                # Calcola il termine di predizione per alpha utilizzando la similarità tra il corrente utente e v\n",
        "                prediction += similarities[similar_users.index(v)][1] * (G[v][alpha]['weight'] - average_rating_v)\n",
        "\n",
        "                # Aggiungi il valore assoluto della similarità tra il corrente utente e v alla somma delle similarità assolute\n",
        "                total_absolute_similarity += abs(similarities[similar_users.index(v)][1])\n",
        "\n",
        "        # Verifica se ci sono utenti simili che hanno valutato alpha\n",
        "        if total_absolute_similarity > 0:\n",
        "            # Calcola il rating predetto del corrente utente per alpha utilizzando il termine di normalizzazione\n",
        "            predicted_rating = average_rating_u + (prediction / total_absolute_similarity)\n",
        "\n",
        "            # Aggiungi il rating predetto al dizionario dei rating predetti\n",
        "            predicted_ratings[alpha] = predicted_rating\n",
        "\n",
        "    # Ordina gli oggetti (film) non valutati dal corrente utente in base ai rating predetti\n",
        "    recommended_movies = sorted(predicted_ratings.items(), key=lambda x: x[1], reverse=True)\n",
        "\n",
        "\n",
        "\n",
        "    # Ordina gli oggetti (film) non valutati dal corrente utente in base ai rating predetti\n",
        "    recommended_movies = sorted(predicted_ratings.items(), key=lambda x: x[1], reverse=True)\n",
        "\n",
        "    # Prendi i primi 10 film consigliati\n",
        "    top_10_recommendations = recommended_movies[:10]\n",
        "\n",
        "    # Stampa le raccomandazioni\n",
        "    print(f\"Le 10 raccomandazioni migliori per {random_user} sono:\")\n",
        "    for movie, rating in top_10_recommendations:\n",
        "        print(f\"Film: {movie}, Rating Predetto: {rating}\")\n",
        "\n",
        "    predicted_ratings = {alpha: min(max(rating, 1), 5) for alpha, rating in predicted_ratings.items()}\n",
        "\n",
        "    # Calcola il Mean Squared Error (MSE) tra le predizioni e i rating reali\n",
        "    true_ratings = [G_tot[random_user][movie]['weight'] for movie in movies_to_remove if movie in predicted_ratings]\n",
        "    predicted_ratings = [predicted_ratings[alpha] for alpha, _ in recommended_movies if alpha in movies_to_remove]\n",
        "    mse = np.mean((np.array(true_ratings) - np.array(predicted_ratings)) ** 2)\n",
        "\n",
        "    # Aggiungi l'MSE calcolato alla lista delle MSE\n",
        "    if not np.isnan(mse):\n",
        "    # Aggiungi l'MSE calcolato alla lista delle MSE solo se è un valore valido\n",
        "       mse_values.append(mse)\n",
        "\n",
        "\n",
        "# Calcola la media degli MSE\n",
        "mean_mse = np.mean(mse_values)\n",
        "\n",
        "# Stampa l'MSE medio per gli utenti estratti casualmente\n",
        "print(f\"MSE Medio per {num_users_to_sample} utenti estratti casualmente: {mean_mse}\")\n",
        "\n"
      ]
    },
    {
      "cell_type": "code",
      "source": [
        "true_ratings"
      ],
      "metadata": {
        "colab": {
          "base_uri": "https://localhost:8080/"
        },
        "id": "5v-YEhlwxqLz",
        "outputId": "99c9ba76-1ecb-4c89-aaa4-3b225c21bea6"
      },
      "execution_count": null,
      "outputs": [
        {
          "output_type": "execute_result",
          "data": {
            "text/plain": [
              "[4.5,\n",
              " 4.0,\n",
              " 3.5,\n",
              " 3.5,\n",
              " 3.5,\n",
              " 4.0,\n",
              " 4.0,\n",
              " 4.0,\n",
              " 3.0,\n",
              " 3.5,\n",
              " 4.5,\n",
              " 4.0,\n",
              " 4.5,\n",
              " 3.5,\n",
              " 3.5,\n",
              " 3.5,\n",
              " 3.5,\n",
              " 3.5,\n",
              " 4.5,\n",
              " 4.0,\n",
              " 3.5,\n",
              " 4.0,\n",
              " 4.0,\n",
              " 4.0,\n",
              " 3.5,\n",
              " 4.5,\n",
              " 4.0,\n",
              " 3.0,\n",
              " 4.5,\n",
              " 2.5,\n",
              " 4.0]"
            ]
          },
          "metadata": {},
          "execution_count": 9
        }
      ]
    },
    {
      "cell_type": "code",
      "source": [
        "predicted_ratings"
      ],
      "metadata": {
        "colab": {
          "base_uri": "https://localhost:8080/"
        },
        "id": "te0I7gCnxuTb",
        "outputId": "59e22fa6-296a-47a1-f6f5-85de3c4efd87"
      },
      "execution_count": null,
      "outputs": [
        {
          "output_type": "execute_result",
          "data": {
            "text/plain": [
              "[5.001951550234084,\n",
              " 4.952449546147633,\n",
              " 4.811030723478016,\n",
              " 4.6811092590410395,\n",
              " 4.535925384051858,\n",
              " 4.450696971112136,\n",
              " 4.4158962570375735,\n",
              " 4.358972411704246,\n",
              " 4.3086180793829,\n",
              " 4.199842118047121,\n",
              " 4.199842118047121,\n",
              " 4.15968607055165,\n",
              " 4.077371949951931,\n",
              " 4.044990310492811,\n",
              " 4.027721485822303,\n",
              " 3.930182897643737,\n",
              " 3.9239997645987255,\n",
              " 3.871578609751105,\n",
              " 3.785942840581833,\n",
              " 3.688864227616464,\n",
              " 3.6473896256504954,\n",
              " 3.4353310729956124,\n",
              " 3.403758820284914,\n",
              " 3.374049518328639,\n",
              " 3.2736849644301453,\n",
              " 3.0228375811505463,\n",
              " 2.6717160037002774,\n",
              " 2.6127442690055878]"
            ]
          },
          "metadata": {},
          "execution_count": 10
        }
      ]
    }
  ]
}